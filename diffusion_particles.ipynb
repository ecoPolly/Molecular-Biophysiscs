{
 "cells": [
  {
   "cell_type": "markdown",
   "metadata": {},
   "source": [
    "# Diffusion of N particles in a box\n",
    "\n",
    "<b> Goal</b>: Investigate N particle diffusing in (i) a <b>Closed Box</b> (ii) in an <b>Infinite Pool</b>. How do they fill the space? What is the number density profile both out and in equilibrium?\n",
    "\n",
    "<b> ATTENTION<b>: This notebook contain pieces to simulate (i) and (ii). Pay attention at what part of code you de-comment on the \"for cycle\" and on the initialization steps of the simulation. \n",
    "\n",
    "<b> ATTENTION2<b>: This notebook uses external figures. \n",
    "\n",
    "\n",
    "In particular:\n",
    "\n",
    "(i) <b>Closed Box</b> uses periodic boundary condition (<i>p_boundary</i>) and particles are created ONLY before starting the simulation (<i>create_in_point</i>), i.e. they never disappear from the box\n",
    "\n",
    "(ii) <b>Infinite Pool</b> NEED to create N particles on the border of the Box (<i>create</i>) at the beginning and then each simulation step need to delete particles diffusing out (<i>check</i>) and create new ones (<i>create</i>)"
   ]
  },
  {
   "cell_type": "code",
   "execution_count": 123,
   "metadata": {
    "metadata": {}
   },
   "outputs": [
    {
     "name": "stdout",
     "output_type": "stream",
     "text": [
      "Using matplotlib backend: QtAgg\n"
     ]
    }
   ],
   "source": [
    "# reset all variables\n",
    "%reset -f\n",
    "%reload_ext autoreload \n",
    "#force reload of file diffusionlab.py feel free to modify it if you need!\n",
    "%autoreload 2\n",
    "\n",
    "\n",
    "#load libraries\n",
    "import numpy as np\n",
    "import matplotlib.pyplot as plt\n",
    "\n",
    "#external library. you have to SHUTDOWN AND RESTART THE KERNELS TO REFRESH IT IF YOU CHANGE IT\n",
    "#it contains functions to plot the simulation and refresh the graphs\n",
    "import libplot_diff as dl\n",
    "\n",
    "#plot the figures in an external window\n",
    "%matplotlib\n"
   ]
  },
  {
   "cell_type": "markdown",
   "metadata": {},
   "source": [
    "N.B. This file uses an external libplot_diff.py library to store lengthy and not useful routines to plot and change plots during the simulation\n",
    "Change it if you want.\n",
    "\n",
    "\n",
    "The next three cells are for \n",
    "\n",
    "    (i) Declaring functions to manipulate particles\n",
    "    (ii) Initialize all the simulation tools (figures, arrays...)\n",
    "    (iii) \"For\" cycle that make the system evolve (simulation steps) and update the plots\n",
    "\n",
    "<h3> HOWTOs </h3>:\n",
    "    1) If you need to STOP the simulation press Kernel>Interrupt or press (I,I). \n",
    "    2) If you need to clean the figure you can redo cell (ii). \n",
    "    3) You can stop a simulation e and restart it using cell (iii) and, if you did not close the figures, they will keep refreshing. In this way you can extract the information from the arrays as you may see fit.  "
   ]
  },
  {
   "cell_type": "code",
   "execution_count": 126,
   "metadata": {
    "metadata": {}
   },
   "outputs": [],
   "source": [
    "#cell (i) Functions here are declared \n",
    "\n",
    "\n",
    "#create N particles and put them in the same point in space [cordp,cordp]\n",
    "def create_in_point(N,coordp):\n",
    "    coord=np.zeros((N,3))\n",
    "    coord[:,0:2]=coord[:,0:2]+[coordp[0],coordp[1]];\n",
    "    return(coord)\n",
    "\n",
    "#periodic bounduary conditions\n",
    "def p_boundary(coord,L):\n",
    "    #if x of a particle is negative increase it by L, so it goes on the other side of the box\n",
    "    coord[coord[:,0]<0,0]=coord[coord[:,0]<0,0]+L;\n",
    "    #if y of a particle is negative increase it by L, so it goes on the other side of the box\n",
    "    coord[coord[:,1]<0,1]=coord[coord[:,1]<0,1]+L;\n",
    "    #if x of a particle is bigger than L decrease it by L, so it goes on the other side of the box\n",
    "    coord[coord[:,0]>L,0]=coord[coord[:,0]>L,0]-L;\n",
    "    #if y of a particle is bigger than L decrease it by L, so it goes on the other side of the box\n",
    "    coord[coord[:,1]>L,1]=coord[coord[:,1]>L,1]-L;\n",
    "    return(coord);\n",
    "\n",
    "#diffuse N particles randomly on a square lattice\n",
    "def diffusione(coord):\n",
    "    #throw a dice for each row of coord\n",
    "    dice=np.random.randint(0,4,len(coord));\n",
    "    #where dice is 0 add [1,0] so increment only x. Only diffuse if the third coordinate is 0 that is the particle is free\n",
    "    coord[(dice==0)&(coord[:,2]==0),:]=coord[(dice==0)&(coord[:,2]==0),:]+[0,1,0];\n",
    "    #the same for y etc...\n",
    "    coord[(dice==1)&(coord[:,2]==0),:]=coord[(dice==1)&(coord[:,2]==0),:]+[1,0,0];\n",
    "    coord[(dice==2)&(coord[:,2]==0),:]=coord[(dice==2)&(coord[:,2]==0),:]-[1,0,0];\n",
    "    coord[(dice==3)&(coord[:,2]==0),:]=coord[(dice==3)&(coord[:,2]==0),:]-[0,1,0];\n",
    "    return(coord)\n",
    "    #increment or decrement x OR y of each row\n",
    "\n",
    "#function to create N particles on the border\n",
    "def create(N,L):\n",
    "    #create an empty coord array of coordinates [x,y] with length N\n",
    "    coord=np.zeros((N,3));\n",
    "    #distribute the particles along the perimeter 4*L, discrete positions\n",
    "    perimeter=np.random.randint(0,4*L,N);\n",
    "\n",
    "    #if a particle lies between 0 and L on the perimeter its coordinate are [x,0]\n",
    "    coord[(perimeter>=0)&(perimeter<L),0]=perimeter[(perimeter>=0)&(perimeter<L)];\n",
    "    coord[(perimeter>=0)&(perimeter<L),1]=0;\n",
    "\n",
    "    #if a particle lies between L and 2*L on the perimeter its coordinate are [0,y]\n",
    "    coord[(perimeter>=L)&(perimeter<2*L),1]=perimeter[(perimeter>=L)&(perimeter<2*L)]-L;\n",
    "    coord[(perimeter>=L)&(perimeter<2*L),0]=0;\n",
    "\n",
    "    #if a particle lies between 2*L and 3*L on the perimeter its coordinate are [x,L]\n",
    "    coord[(perimeter>=2*L)&(perimeter<3*L),0]=perimeter[(perimeter>=2*L)&(perimeter<3*L)]-2*L;\n",
    "    coord[(perimeter>=2*L)&(perimeter<3*L),1]=L;\n",
    "\n",
    "    #if a particle lies between 3*L and 4*L on the perimete its coordinate are [L,y]\n",
    "    coord[(perimeter>=3*L)&(perimeter<4*L),1]=perimeter[(perimeter>=3*L)&(perimeter<4*L)]-3*L;\n",
    "    coord[(perimeter>=3*L)&(perimeter<4*L),0]=L;\n",
    "    return(coord)\n",
    "    \n",
    "#function check, delete particles that diffuse outside box\n",
    "def check(coord,L):\n",
    "    coord=coord[(coord[:,0]>=0)&(coord[:,0]<=L)&(coord[:,1]>=0)&(coord[:,1]<=L)];\n",
    "    return coord\n",
    "\n",
    "#function to create \"n_rec\" receptors on coordinate x_rec,y_rec    \n",
    "def create_receptors(x_rec,y_rec):\n",
    "    #create an array of zeros of x,y coordinate of the receptors and a third coordinate (0,1) if the receptor is free or not\n",
    "    coord_rec=np.zeros((len(x_rec),3));\n",
    "    #place x_rec and y_rec into the new array and returns it\n",
    "    coord_rec[:,0]=x_rec;\n",
    "    coord_rec[:,1]=y_rec;\n",
    "    return coord_rec\n",
    "\n",
    "#check if a diffusing particle fell into a free receptors and in case bound it with a probability pon\n",
    "def receptors(coord,coord_rec,pon):\n",
    "    #we cycle on every receptor\n",
    "    for i in range(len(coord_rec)):\n",
    "    #we cycle on all the particles \n",
    "        for j in range(len(coord)):\n",
    "     #if a particle has the same coordinate of the receptor, is free and the receptor is not already taken, the particle is adsorbed in the receptor with a probability pon  \n",
    "            if (coord[j,0]==coord_rec[i,0])&(coord[j,1]==coord_rec[i,1])&(coord[j,2]==0)&(coord_rec[i,2]==0)&(np.random.rand()<pon):\n",
    "               #we update the third colums of the receptor list and the particle list setting them to 1\n",
    "                coord_rec[i,2]= 1#coord_rec[i,2]+1;\n",
    "                coord[j,2]=coord[j,2]+1;\n",
    "    return coord,coord_rec\n",
    "\n",
    "#particles can escape from a receptor with a certain probability  poff\n",
    "def escape(coord,coord_rec,poff):\n",
    "    #we cycle on every receptor\n",
    "    for i in range(len(coord_rec)):\n",
    "            #if a particle is not free (its coordinates are contained both in coord and in coord_rec) it can, with a certain probability poff, eascape the receptor     \n",
    "            if (np.random.rand()<poff) & (coord_rec[i,2]==1):\n",
    "                coord[(coord[:,0]==coord_rec[i,0])&(coord[:,1]==coord_rec[i,1]),2]=0;\n",
    "                #we update the third colums of the receptor list and the particle list setting them to 0\n",
    "                coord_rec[i,2]= 0;\n",
    "    return coord,coord_rec\n"
   ]
  },
  {
   "cell_type": "code",
   "execution_count": 129,
   "metadata": {
    "metadata": {}
   },
   "outputs": [],
   "source": [
    "\n",
    "#cell (ii) Initialize (or re-initialize) the simulation cleaning the arrays, and the plots\n",
    "\n",
    "\n",
    "plt.close('all') #close all figures\n",
    "\n",
    "#simulation parameters\n",
    "N=500; #number of particles\n",
    "\n",
    "L=100; #box size\n",
    "nsteps=10000; #number of simulation steps\n",
    "averages=100; #smoothness of density profiles\n",
    "resol=50; #resolution in space to calculate density profiles\n",
    "\n",
    "\n",
    "#create N initial particles in a position xp,yp\n",
    "coord=create_in_point(N,[50,50]); #decomment if in CLOSED BOX\n",
    "\n",
    "#create receptors as a line in the center of the box (please edit function if you want other patterns)\n",
    "coord_rec=create_receptors(np.arange(10,L,10),L/2*np.ones(len(np.arange(10,L,10))))\n",
    "#probability to fall in the trap (if the particles stumble on it)\n",
    "pon=0.9\n",
    "#probability to escape the trap\n",
    "poff=0.01\n",
    "t_receptors=6000\n",
    "#create N particle on the border\n",
    "#coord=create(N,L); #decomment if in INFINITE POOL\n",
    "\n",
    "\n",
    "\n",
    "#initialize arrays and figures\n",
    "n_p=np.zeros(nsteps);\n",
    "n_p[0]=len(coord);\n",
    "   \n",
    "figures=dl.plot_init(coord,N,L,n_p,nsteps,resol);\n",
    "dens_avg=np.zeros((resol,resol));\n",
    "px_avg=np.zeros(resol);\n",
    "py_avg=np.zeros(resol);\n",
    "\n",
    "history=[]\n",
    "k=0"
   ]
  },
  {
   "cell_type": "code",
   "execution_count": 130,
   "metadata": {
    "metadata": {}
   },
   "outputs": [
    {
     "ename": "IndexError",
     "evalue": "index 10000 is out of bounds for axis 0 with size 10000",
     "output_type": "error",
     "traceback": [
      "\u001b[1;31m---------------------------------------------------------------------------\u001b[0m",
      "\u001b[1;31mIndexError\u001b[0m                                Traceback (most recent call last)",
      "Cell \u001b[1;32mIn[130], line 19\u001b[0m\n\u001b[0;32m     16\u001b[0m     coord,coord_rec\u001b[38;5;241m=\u001b[39mreceptors(coord,coord_rec,pon)\n\u001b[0;32m     18\u001b[0m k\u001b[38;5;241m+\u001b[39m\u001b[38;5;241m=\u001b[39m\u001b[38;5;241m1\u001b[39m\n\u001b[1;32m---> 19\u001b[0m \u001b[43mn_p\u001b[49m\u001b[43m[\u001b[49m\u001b[43mk\u001b[49m\u001b[43m]\u001b[49m\u001b[38;5;241m=\u001b[39m\u001b[38;5;28mlen\u001b[39m(coord)\u001b[38;5;241m-\u001b[39mnp\u001b[38;5;241m.\u001b[39msum(coord_rec[:,\u001b[38;5;241m2\u001b[39m]); \u001b[38;5;66;03m# update particle number\u001b[39;00m\n\u001b[0;32m     20\u001b[0m dens,prof_x,prof_y\u001b[38;5;241m=\u001b[39mdl\u001b[38;5;241m.\u001b[39mdensity(coord,resol,L); \u001b[38;5;66;03m# calculate density profiles\u001b[39;00m\n\u001b[0;32m     21\u001b[0m \u001b[38;5;66;03m#coord,coord_rec=receptors(coord,coord_rec,pon)\u001b[39;00m\n\u001b[0;32m     22\u001b[0m \n\u001b[0;32m     23\u001b[0m \u001b[38;5;66;03m#coord=np.vstack((coord,create(N,L))) #add new particles on the border of the box. Decomment in INFINITE POOL\u001b[39;00m\n\u001b[0;32m     24\u001b[0m \u001b[38;5;66;03m#average over 'averages' steps\u001b[39;00m\n",
      "\u001b[1;31mIndexError\u001b[0m: index 10000 is out of bounds for axis 0 with size 10000"
     ]
    }
   ],
   "source": [
    "#cell (iii) Simulation steps that refresh the plots created in the cell before. DON'T CLOSE THEM unless you want to restart it, in that case redo the cell bedore bef+\n",
    "#executing this one\n",
    "\n",
    "\n",
    "# simulation starts \n",
    "#for i in range(0,nsteps):\n",
    "while True:  \n",
    "    if k>t_receptors:\n",
    "        coord,coord_rec=escape(coord,coord_rec,poff)\n",
    "        history.append(np.array(coord_rec[:,2]))    #save history of occupancy\n",
    "      \n",
    "    coord=diffusione(coord); #diffuse particles\n",
    "    coord=p_boundary(coord,L); #apply bounduary conditions. Decomment in CLOSED BOX\n",
    "    #coord=check(coord,L) #delete particles that diffuse out from the box. Decomment in INFINITE POOL\n",
    "    if k>t_receptors:\n",
    "        coord,coord_rec=receptors(coord,coord_rec,pon)\n",
    "\n",
    "    k+=1\n",
    "    n_p[k]=len(coord)-np.sum(coord_rec[:,2]); # update particle number\n",
    "    dens,prof_x,prof_y=dl.density(coord,resol,L); # calculate density profiles\n",
    "    #coord,coord_rec=receptors(coord,coord_rec,pon)\n",
    "   \n",
    "    #coord=np.vstack((coord,create(N,L))) #add new particles on the border of the box. Decomment in INFINITE POOL\n",
    "    #average over 'averages' steps\n",
    "    dens_avg=dens_avg+dens/averages;\n",
    "    px_avg=px_avg+prof_x/averages;\n",
    "    py_avg=py_avg+prof_y/averages;\n",
    "\n",
    "    \n",
    "    #every average steps update the figures\n",
    "    if np.mod(k,averages)==0:\n",
    "        #plot the figures\n",
    "        dl.plot(coord,n_p,dens_avg,px_avg,py_avg,figures)\n",
    "        #zero the average vector for the next time\n",
    "        dens_avg=np.zeros((resol,resol));\n",
    "        px_avg=np.zeros(resol);\n",
    "        py_avg=np.zeros(resol);\n",
    "        \n",
    "\n",
    "    "
   ]
  },
  {
   "cell_type": "markdown",
   "metadata": {},
   "source": [
    "# Assignments:\n",
    "    \n",
    "Run the Code for the Closed Box. \n",
    "\n",
    "At \"t_receptors\" steps some receptors appears in the box and the particles have the probability \"pon\" to be captured and \"poff\" to escape. \n",
    "\n",
    "This is done in the code adding a list \"coord_rec\" in which we have (x_rec,y_rec,occupation_state) list of receptors; a third column is also added to the particle list \"coord\" where occupation state is also written coord=(x,y,occupation_state).\n",
    "\n",
    "The particles that have the same x,y of the receptors can be trapped if a random number is smaller than probability p_on.\n",
    "Once a particle is trapped the occupation state in coord and coord_rec change to 1 and it cannot diffuse no more. At every cycle an escape function can eventually free the particle if a random number is smaller than probability p_off. \n",
    "\n",
    "The number of particles in the figure N reflects the number of particle that are free to diffuse\n",
    "\n",
    "1) Observe the new equilibrium situation after the receptors are activated. Comment on it (e.g. what are the parameters that fix the new equilibrium? how can i increase/decrease the number of particle that diffuse? , how can i regulate how many particles are trapped on average? ... ...)\n",
    "\n",
    "2) Make an istrogram of occupation using the matrix \"history\" that record the occupational state of receptors for every step. Comment on its shape and meaning. \n",
    "\n",
    "3) OPTIONAL What would happen when the box is INFINITE POOL instead of CLOSED?\n",
    "\n"
   ]
  },
  {
   "cell_type": "code",
   "execution_count": 135,
   "metadata": {
    "metadata": {}
   },
   "outputs": [
    {
     "name": "stdout",
     "output_type": "stream",
     "text": [
      "[[0. 0. 0. ... 0. 0. 0.]\n",
      " [0. 0. 0. ... 0. 0. 0.]\n",
      " [0. 0. 0. ... 0. 0. 0.]\n",
      " ...\n",
      " [1. 1. 0. ... 1. 1. 1.]\n",
      " [1. 1. 0. ... 1. 1. 1.]\n",
      " [1. 1. 0. ... 1. 1. 1.]]\n"
     ]
    }
   ],
   "source": [
    "#once blocked the code you can save the history of occupancy  in a file \"receptor occupancy.txt\"\n",
    "#on another notebook you can load the data using np.loadtxt() and use matplotlib to plot the graphs required \n",
    "np.savetxt(\"receptor_occupancy.txt\",np.array(history))\n",
    "print(history)"
   ]
  },
  {
   "cell_type": "code",
   "execution_count": 133,
   "metadata": {
    "metadata": {}
   },
   "outputs": [
    {
     "data": {
      "image/png": "[encoded data removed]",
      "text/plain": [
       "<Figure size 640x480 with 1 Axes>"
      ]
     },
     "metadata": {},
     "output_type": "display_data"
    }
   ],
   "source": [
    "\n",
    "history= np.loadtxt(\"receptor_occupancy.txt\")\n",
    "flat_matrix = np.concatenate(history).ravel().astype(int)\n",
    "\n",
    "# Plot histogram\n",
    "%matplotlib inline\n",
    "plt.hist(flat_matrix,bins=[-0.1, 0.1, 0.9, 1.1] ,edgecolor='gray', color= \"lightblue\",density=True)\n",
    "plt.xticks([0, 1])\n",
    "plt.xlabel('Value')\n",
    "plt.ylabel('Frequency')\n",
    "plt.title('Frequency of 0s and 1s')\n",
    "plt.show()"
   ]
  },
  {
   "cell_type": "code",
   "execution_count": 134,
   "metadata": {
    "metadata": {}
   },
   "outputs": [
    {
     "data": {
      "image/png": "[encoded data removed]",
      "text/plain": [
       "<Figure size 640x480 with 1 Axes>"
      ]
     },
     "metadata": {},
     "output_type": "display_data"
    }
   ],
   "source": [
    "receptor_occupied = np.sum(history, axis=1)\n",
    "plt.bar(range(len(receptor_occupied)), receptor_occupied, color= \"lightblue\")\n",
    "plt.xlabel('Time step')\n",
    "plt.ylabel('Number of occupied receptors')\n",
    "plt.title('Receptor occupation over time')\n",
    "plt.show()\n"
   ]
  }
 ],
 "metadata": {
  "kernelspec": {
   "display_name": "Python 3",
   "language": "python",
   "name": "python3"
  },
  "language_info": {
   "codemirror_mode": {
    "name": "ipython",
    "version": 3
   },
   "file_extension": ".py",
   "mimetype": "text/x-python",
   "name": "python",
   "nbconvert_exporter": "python",
   "pygments_lexer": "ipython3",
   "version": "3.11.6"
  }
 },
 "nbformat": 4,
 "nbformat_minor": 4
}
