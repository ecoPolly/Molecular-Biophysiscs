{
 "cells": [
  {
   "attachments": {},
   "cell_type": "markdown",
   "metadata": {},
   "source": [
    "# Polymers\n",
    "\n",
    "  __Goal__ : Study of Polymers configurations at the thermodynamical equilibrium, with a simulation via Metropolis Algorithm, dependig on the interaction parameter"
   ]
  },
  {
   "cell_type": "markdown",
   "metadata": {},
   "source": [
    "1) Load Libraries and the Experiment file"
   ]
  },
  {
   "cell_type": "code",
   "execution_count": 1,
   "metadata": {},
   "outputs": [],
   "source": [
    "import numpy as np\n",
    "import matplotlib.pyplot as plt\n",
    "import pylab\n",
    "from mpl_toolkits.mplot3d import Axes3D\n",
    "import random\n",
    "\n",
    "%matplotlib qt \n",
    "\n",
    "#!pip freeze > requirements.txt\n",
    "plt.close('all') #close all figures if open\n"
   ]
  },
  {
   "cell_type": "markdown",
   "metadata": {},
   "source": [
    "2) Giration Radius Definition"
   ]
  },
  {
   "cell_type": "code",
   "execution_count": 2,
   "metadata": {},
   "outputs": [],
   "source": [
    "def g_radius(chain):\n",
    "    \n",
    "    d=chain.shape[1]  #i'm taking columns n,m,l (row, columns, z) like how many cols\n",
    "    r_cm=np.mean(chain,0)\n",
    "    r_g=0;\n",
    "    \n",
    "    for i in range(chain.shape[0]): #iteration along rows\n",
    "        for j in range(d):          #iter along cols --> analysis of the matrix\n",
    "            r_g=r_g+(chain[i,j-1]-r_cm[j-1])**2\n",
    "    \n",
    "    r_g=np.sqrt(r_g/chain.shape[0])\n",
    "    #return r_g, r_cm;\n",
    "    return r_g;"
   ]
  },
  {
   "cell_type": "code",
   "execution_count": 34,
   "metadata": {},
   "outputs": [
    {
     "data": {
      "text/plain": [
       "array([1, 5, 4])"
      ]
     },
     "execution_count": 34,
     "metadata": {},
     "output_type": "execute_result"
    }
   ],
   "source": [
    "#The goal is to move each monomer along the chain using the Metropolis algorithm and to determine if the new position is accepted based on the Metropolis criteria.\n",
    "np.random.randint(1,[2,10,6])"
   ]
  },
  {
   "cell_type": "markdown",
   "metadata": {},
   "source": [
    "## Metropolis Simulation Step"
   ]
  },
  {
   "cell_type": "markdown",
   "metadata": {},
   "source": [
    "3) Metropolis Algorithm for the \"Diffusion\" of the Self-Avoiding Chain, (single step of the simulation)"
   ]
  },
  {
   "cell_type": "code",
   "execution_count": 3,
   "metadata": {},
   "outputs": [],
   "source": [
    "def Metropolis_diff(chain, interact): # motion of the monomers along the chain\n",
    "                                        #chain: A 2D numpy array representing the positions of monomers along the chain.\n",
    "                                        #interact: A parameter that controls the interaction energy between monomers.\n",
    "\n",
    "    d=chain.shape[1]\n",
    "    L=chain.shape[0]\n",
    "    \n",
    "    #1° monomer\n",
    "    dice_diff= -1 +np.random.randint(0,3,d); #0<n<3 with d= n° of elements\n",
    "    new_pos=chain[0,:]+dice_diff;    #new position of the 1° monomer \n",
    "    \n",
    "    acc=-100;\n",
    "    acc=np.sum(np.prod((chain[:]==new_pos),1)) #evaluate if the new position is already occupied in the chain\n",
    "    \n",
    "    r_post=new_pos-chain[1,:]        #distance with of the 2° monomer\n",
    "    r2_post=0;\n",
    "    for j in range(d):\n",
    "        r2_post=r2_post+r_post[j]**2    #square distance\n",
    "        \n",
    "    if (r2_post==1)&(acc==0): #positional check : new position is valid with no overlapp\n",
    "        new_chain=np.copy(chain);\n",
    "        new_chain[0,:]=chain[0,:]+dice_diff;\n",
    "        Delta_NN=NN_count(new_chain,1)-NN_count(chain,1)  #energetic evaluation: E change\n",
    "        boltz=np.exp(-interact*Delta_NN);   #e^beta*dE\n",
    "        dice_acc=np.random.random() \n",
    "        if dice_acc<np.min([1,boltz]):   #transition probability\n",
    "            chain[0,:]=new_pos;   #accept the new position of the monomer\n",
    "  \n",
    "    #move monomers from 2 to L-1\n",
    "    for i in range(1,L-1):\n",
    "        #generate radom movement for each monomers\n",
    "        dice_diff=-1+np.random.randint(0,3,d);\n",
    "        new_pos=chain[i,:]+dice_diff;           #new position of the i° monomer\n",
    "        \n",
    "        r_pre=new_pos-chain[i-1,:]              #distance with of the i-1° monomer\n",
    "        r_post=new_pos-chain[i+1,:]             #distance with of the i+1° monomer\n",
    "        r2_pre=0;\n",
    "        r2_post=0;\n",
    "        \n",
    "        for j in range(d):  #compute distance along 3D\n",
    "            r2_pre=r2_pre+r_pre[j]**2\n",
    "            r2_post=r2_post+r_post[j]**2\n",
    "\n",
    "                \n",
    "        acc=-100;\n",
    "        acc=np.sum(np.prod((chain[:]==new_pos),1)); #evaluate if the new position is already occupied in the chain\n",
    "        \n",
    "        if (r2_pre==1)&(r2_post==1)&(acc==0):  #positional check ù\n",
    "\n",
    "            #energetic eveluation and transition probs\n",
    "            new_chain=np.copy(chain);\n",
    "            new_chain[i,:]=new_chain[i,:]+dice_diff;\n",
    "            Delta_NN=NN_count(new_chain,i)-NN_count(chain,i) #energetic evaluation\n",
    "            boltz=np.exp(-interact*Delta_NN)\n",
    "            dice_acc=np.random.random()\n",
    "            if dice_acc<np.min([1,boltz]):   #transition probability\n",
    "                chain[i,:]=new_pos;     #accept the new position of the monomer\n",
    "    \n",
    "    #Move the last monomer\n",
    "    dice_diff=-1+np.random.randint(0,3,d);\n",
    "    new_pos=chain[L-1,:]+dice_diff;\n",
    "    r_pre=new_pos-chain[L-2,:]\n",
    "    r2_pre=0;\n",
    "    acc=-100;\n",
    "    acc=np.sum(np.prod((chain[:]==new_pos),1))\n",
    "    \n",
    "\n",
    "    for j in range(d):\n",
    "        r2_pre=r2_pre+r_pre[j]**2\n",
    "    if (r2_pre==1)&(acc==0): #like if they overlpa, chang etheir positions\n",
    "        new_chain=np.copy(chain)\n",
    "        new_chain[L-1,:]=chain[L-1,:]+dice_diff\n",
    "        Delta_NN=NN_count(new_chain,L-1)-NN_count(chain,L-1)\n",
    "        boltz=np.exp(-interact*Delta_NN)\n",
    "        dice_acc=np.random.random()\n",
    "        if dice_acc<np.min([1,boltz]):\n",
    "            chain[L-1,:]=new_pos;\n",
    "    \n",
    "\n",
    "    #FINAL COUNT OF NEAREST NEIGHBORS for each monomers\n",
    "    nn_fin=0;\n",
    "    for i in range(L):\n",
    "        nn_fin=nn_fin+NN_count(chain,i)\n",
    "    \n",
    "    return(chain, nn_fin)"
   ]
  },
  {
   "cell_type": "code",
   "execution_count": 37,
   "metadata": {
    "scrolled": true
   },
   "outputs": [
    {
     "name": "stdout",
     "output_type": "stream",
     "text": [
      "[1 1 0] [2 0 1]\n"
     ]
    }
   ],
   "source": [
    "print (np.random.randint(0,3,3)-1, np.random.randint(0,3,3))"
   ]
  },
  {
   "cell_type": "markdown",
   "metadata": {},
   "source": [
    "4) Define an Energy of the Chain"
   ]
  },
  {
   "cell_type": "code",
   "execution_count": 70,
   "metadata": {},
   "outputs": [],
   "source": [
    "def NN_count(chain, ind): \n",
    "    d=chain.shape[1]\n",
    "    L=chain.shape[0]\n",
    "    nn=0\n",
    "    \n",
    "    for i in range(d):\n",
    "        direction=np.zeros(d);\n",
    "        direction[i-1]=direction[i-1]+1\n",
    "        nn=nn+np.sum(np.prod((chain[:]==(chain[ind]+direction)),1)); #counting the NN in the nearest sites\n",
    "        nn=nn+np.sum(np.prod((chain[:]==(chain[ind]-direction)),1));\n",
    "\n",
    "    return(nn)  #tot n° of nearest neighbors for monomers at a given index\n",
    "\n",
    "\n",
    "def NN_tot (chain):\n",
    "    for i in L:\n",
    "        NN_tot += NN_count(chain, i)\n",
    "    return NN_tot"
   ]
  },
  {
   "cell_type": "markdown",
   "metadata": {},
   "source": [
    "5) Choice of the Initial Chain for the Simulation"
   ]
  },
  {
   "cell_type": "code",
   "execution_count": 11,
   "metadata": {},
   "outputs": [],
   "source": [
    "d=3\n",
    "L=20\n",
    "lin_chain=np.zeros((L,d)) #create the chain: nitialize a 2D array of zeros with dimensions L x d.\n",
    "for i in range(L):\n",
    "    lin_chain[i,-1]=i  #set initial position\n",
    "\n",
    "d=(len(lin_chain.transpose()))\n",
    "\n",
    "fig = plt.figure(6);\n",
    "\n",
    "if d==2:\n",
    "    ax=fig.add_subplot();\n",
    "    line1,= ax.plot(lin_chain[:,0],lin_chain[:,1],'-o')\n",
    "    ax.axis('equal')\n",
    "else:\n",
    "    ax=fig.add_subplot(projection='3d');\n",
    "    line1,= ax.plot(lin_chain[:,0],lin_chain[:,1],lin_chain[:,2],'-o')\n",
    "\n",
    "    \n",
    "plt.ion()  #Enable interactive mode for dynamic updating.\n",
    "\n",
    "initial_chain=lin_chain"
   ]
  },
  {
   "cell_type": "markdown",
   "metadata": {},
   "source": [
    "6) Statistical Trajectory of a Chain, with interactions"
   ]
  },
  {
   "cell_type": "code",
   "execution_count": 209,
   "metadata": {
    "scrolled": true
   },
   "outputs": [
    {
     "data": {
      "text/plain": [
       "<contextlib.ExitStack at 0x229acda3a10>"
      ]
     },
     "execution_count": 209,
     "metadata": {},
     "output_type": "execute_result"
    }
   ],
   "source": [
    "chain=np.copy(initial_chain); \n",
    "\n",
    "interact = +0.8;   # interact>0 => repulsive, interact<0 => attractive   #EPSILOM\n",
    "\n",
    "d=chain.shape[1]\n",
    "L=chain.shape[0]\n",
    "\n",
    "steps=5000; #step of the simulation\n",
    "    \n",
    "plot_freq=round(steps/100); # plot every plot_freq steps\n",
    "\n",
    "fig = plt.figure(70);\n",
    "\n",
    "if d==2:\n",
    "    ax=fig.add_subplot();\n",
    "    line1,= ax.plot(chain[:,0],chain[:,1],'-o')\n",
    "    ax.axis('equal')\n",
    "else:\n",
    "    ax=fig.add_subplot(projection='3d');\n",
    "    line1,= ax.plot(chain[:,0],chain[:,1],chain[:,2],'-o')\n",
    "    \n",
    "plt.ion()\n"
   ]
  },
  {
   "cell_type": "code",
   "execution_count": 216,
   "metadata": {},
   "outputs": [
    {
     "name": "stdout",
     "output_type": "stream",
     "text": [
      "1.8986837546047528\n"
     ]
    }
   ],
   "source": [
    "interact = 0\n",
    "R_g_results= []\n",
    "for i in range(steps): # simulation  \n",
    "        chain, NN_tot = Metropolis_diff(chain, interact)  #uses NN count funct\n",
    "       \n",
    "        #NN_tot_results.append(NN_tot)\n",
    "\n",
    "            \n",
    "        if np.mod(i,plot_freq)==0:  #resto = np.mod\n",
    "            #print(100*i/steps, '%')\n",
    "            line1.set_xdata(chain[:,0]);\n",
    "            line1.set_ydata(chain[:,1]);\n",
    "            \n",
    "            \n",
    "            ax.axis([np.min(chain[:,0])-0.15*np.sqrt(L),\n",
    "                    np.max(chain[:,0])+0.15*np.sqrt(L),\n",
    "                    np.min(chain[:,1])-0.15*np.sqrt(L),\n",
    "                    np.max(chain[:,1])+0.15*np.sqrt(L),\n",
    "                    np.min(chain[:,2])-0.15*np.sqrt(L),\n",
    "                    np.max(chain[:,2])+0.15*np.sqrt(L)])\n",
    "            \n",
    "            if d==3:\n",
    "                line1.set_3d_properties(chain[:,2])\n",
    "        \n",
    "\n",
    "            plt.title(f\" $\\epsilon$: {interact} repulsive\")\n",
    "\n",
    "            plt.show()\n",
    "            plt.pause(0.02)\n",
    "            plt.tight_layout()\n",
    "print (g_radius(chain))\n"
   ]
  },
  {
   "cell_type": "markdown",
   "metadata": {},
   "source": [
    "7) Plot significant quantities vs steps\n"
   ]
  },
  {
   "cell_type": "code",
   "execution_count": null,
   "metadata": {},
   "outputs": [],
   "source": [
    "\n",
    "#This complete workflow initializes a chain of monomers, sets up a Metropolis simulation with interaction energies, and dynamically visualizes the chain's evolution over time. Each part of the code serves to initialize the system, perform the Metropolis steps, and visualize the results, ensuring that the chain configuration is updated and displayed correctly throughout the simulation."
   ]
  },
  {
   "cell_type": "markdown",
   "metadata": {},
   "source": [
    "8) Statistics of the Trajectory: histograms? mean values and standard deviations?"
   ]
  },
  {
   "cell_type": "code",
   "execution_count": 144,
   "metadata": {},
   "outputs": [
    {
     "data": {
      "text/plain": [
       "Text(0.5, 1.0, 'NN_tot ($\\\\epsilon$)')"
      ]
     },
     "execution_count": 144,
     "metadata": {},
     "output_type": "execute_result"
    }
   ],
   "source": [
    "epsilom = np.linspace(-1,1,10)\n",
    "NN_tot_result= [54, 48, 48, 40, 40, 46, 40, 46, 46, 38]\n",
    "#[48, 54, 44, 44, 40, 40, 42, 38, 42, 40] #[58, 52, 46, 38, 44, 44, 38, 44, 40, 40]\n",
    "plt.plot(epsilom, NN_tot_result, linestyle = \":\")\n",
    "plt.xlabel(\"$\\epsilon$\")\n",
    "plt.ylabel(\"tot Nearest Neighbors\")\n",
    "plt.title(\"NN_tot ($\\epsilon$)\")"
   ]
  },
  {
   "cell_type": "markdown",
   "metadata": {},
   "source": [
    "## Assignments:"
   ]
  },
  {
   "cell_type": "markdown",
   "metadata": {},
   "source": [
    "3) At the equilibrium, study R_g and NN_tot  of a linear chain with L=20 in 3D, as a function of the interaction parameter 𝜀, and comment the results."
   ]
  },
  {
   "cell_type": "markdown",
   "metadata": {},
   "source": [
    "4) Define a new potential (simple but significant for a polymer) for the chain, and study the equilibrium properties (Optional)\n"
   ]
  },
  {
   "cell_type": "code",
   "execution_count": 143,
   "metadata": {},
   "outputs": [
    {
     "name": "stdout",
     "output_type": "stream",
     "text": [
      "[54, 48, 48, 40, 40, 46, 40, 46, 46, 38]\n"
     ]
    }
   ],
   "source": [
    "R_g_results = []\n",
    "NN_tot_result= []\n",
    "\n",
    "epsilons = np.linspace(-1, 1, 10)\n",
    "for epsilon in epsilons:\n",
    "\n",
    "    chain=np.copy(initial_chain); \n",
    "\n",
    "    #interact= +0.8;   # interact>0 => repulsive, interact<0 => attractive   #EPSILOM\n",
    "\n",
    "    d=chain.shape[1]\n",
    "    L=chain.shape[0]\n",
    "\n",
    "    steps=5000;\n",
    "\n",
    "    for i in range(steps): # simulation  \n",
    "        chain, NN_tot = Metropolis_diff(chain, epsilon)  #uses NN count funct\n",
    "        \n",
    "    NN_tot_result.append(NN_tot)\n",
    "print (NN_tot_result)\n"
   ]
  },
  {
   "cell_type": "code",
   "execution_count": 307,
   "metadata": {},
   "outputs": [],
   "source": [
    "#energy of the chain at each step\n",
    "\n",
    "import plotly.graph_objects as go\n",
    "\n",
    "def calculate_energy(epsilon, minimal_distance, distance):\n",
    "        energy = epsilon * (((minimal_distance / distance) ** 12) - (2 * ((minimal_distance / distance) ** 6)))\n",
    "        return energy\n",
    "\n",
    "epsilons =[-0.9, -0.2,-0.15, 0.1, 0.15, 0.2, 0.9]\n",
    "distances= np.arange(0.5, 3, 0.1)\n",
    "minimal_distance = 2.1 #R_g a cui e=o\n",
    "\n",
    "\n",
    "for epsilon in epsilons:\n",
    "        Ue= []\n",
    "\n",
    "        for distance in distances :\n",
    "                Ue.append(calculate_energy(epsilon, minimal_distance, distance))\n",
    "                \n",
    "\n",
    "                \n",
    "\n",
    "        plt.plot((distances), (Ue), marker= \"o\", markersize= 2.8, linestyle= \"--\", label= f\" $\\epsilon$ {epsilon}\" )\n",
    "        plt.xlabel(\"distance\")\n",
    "        plt.ylabel(\"Potential energy\")\n",
    "        plt.title( \"Potential Energy (d)\")\n",
    "        plt.legend()\n",
    "        plt.grid(True)\n",
    "        plt.show()\n",
    "\n",
    "#0.1: purple, 0.6 lightblue, "
   ]
  },
  {
   "cell_type": "code",
   "execution_count": 257,
   "metadata": {},
   "outputs": [
    {
     "data": {
      "application/vnd.plotly.v1+json": {
       "config": {
        "plotlyServerURL": "https://plot.ly"
       },
       "data": [
        {
         "line": {
          "width": 5
         },
         "marker": {
          "size": 10
         },
         "mode": "lines+markers",
         "name": "transaction-based model",
         "type": "scatter",
         "x": [
          0.4,
          0.5,
          0.6,
          0.7,
          0.7999999999999999,
          0.8999999999999999,
          0.9999999999999999,
          1.0999999999999999,
          1.1999999999999997,
          1.2999999999999998,
          1.4,
          1.4999999999999996,
          1.5999999999999996,
          1.6999999999999997,
          1.7999999999999998,
          1.8999999999999995
         ],
         "y": [
          43274627.0633303,
          2972671.5693059796,
          333061.3158029973,
          52256.04475473333,
          10474.58966174408,
          2525.648564609846,
          702.0245950851884,
          217.7613866852356,
          73.36824291606392,
          26.17344967742118,
          9.606859042334433,
          3.480567410890703,
          1.1431348019599086,
          0.24778561602433344,
          -0.08093872465579972,
          -0.1842341748278108
         ]
        }
       ],
       "layout": {
        "bargap": 0.2,
        "height": 600,
        "legend": {
         "bordercolor": "LightSteelBlue",
         "borderwidth": 2,
         "font": {
          "family": "Arial",
          "size": 20
         },
         "itemsizing": "constant",
         "orientation": "h",
         "x": 1.05,
         "xanchor": "right",
         "y": 1.02,
         "yanchor": "bottom"
        },
        "template": {
         "data": {
          "bar": [
           {
            "error_x": {
             "color": "rgb(36,36,36)"
            },
            "error_y": {
             "color": "rgb(36,36,36)"
            },
            "marker": {
             "line": {
              "color": "white",
              "width": 0.5
             },
             "pattern": {
              "fillmode": "overlay",
              "size": 10,
              "solidity": 0.2
             }
            },
            "type": "bar"
           }
          ],
          "barpolar": [
           {
            "marker": {
             "line": {
              "color": "white",
              "width": 0.5
             },
             "pattern": {
              "fillmode": "overlay",
              "size": 10,
              "solidity": 0.2
             }
            },
            "type": "barpolar"
           }
          ],
          "carpet": [
           {
            "aaxis": {
             "endlinecolor": "rgb(36,36,36)",
             "gridcolor": "white",
             "linecolor": "white",
             "minorgridcolor": "white",
             "startlinecolor": "rgb(36,36,36)"
            },
            "baxis": {
             "endlinecolor": "rgb(36,36,36)",
             "gridcolor": "white",
             "linecolor": "white",
             "minorgridcolor": "white",
             "startlinecolor": "rgb(36,36,36)"
            },
            "type": "carpet"
           }
          ],
          "choropleth": [
           {
            "colorbar": {
             "outlinewidth": 1,
             "tickcolor": "rgb(36,36,36)",
             "ticks": "outside"
            },
            "type": "choropleth"
           }
          ],
          "contour": [
           {
            "colorbar": {
             "outlinewidth": 1,
             "tickcolor": "rgb(36,36,36)",
             "ticks": "outside"
            },
            "colorscale": [
             [
              0,
              "#440154"
             ],
             [
              0.1111111111111111,
              "#482878"
             ],
             [
              0.2222222222222222,
              "#3e4989"
             ],
             [
              0.3333333333333333,
              "#31688e"
             ],
             [
              0.4444444444444444,
              "#26828e"
             ],
             [
              0.5555555555555556,
              "#1f9e89"
             ],
             [
              0.6666666666666666,
              "#35b779"
             ],
             [
              0.7777777777777778,
              "#6ece58"
             ],
             [
              0.8888888888888888,
              "#b5de2b"
             ],
             [
              1,
              "#fde725"
             ]
            ],
            "type": "contour"
           }
          ],
          "contourcarpet": [
           {
            "colorbar": {
             "outlinewidth": 1,
             "tickcolor": "rgb(36,36,36)",
             "ticks": "outside"
            },
            "type": "contourcarpet"
           }
          ],
          "heatmap": [
           {
            "colorbar": {
             "outlinewidth": 1,
             "tickcolor": "rgb(36,36,36)",
             "ticks": "outside"
            },
            "colorscale": [
             [
              0,
              "#440154"
             ],
             [
              0.1111111111111111,
              "#482878"
             ],
             [
              0.2222222222222222,
              "#3e4989"
             ],
             [
              0.3333333333333333,
              "#31688e"
             ],
             [
              0.4444444444444444,
              "#26828e"
             ],
             [
              0.5555555555555556,
              "#1f9e89"
             ],
             [
              0.6666666666666666,
              "#35b779"
             ],
             [
              0.7777777777777778,
              "#6ece58"
             ],
             [
              0.8888888888888888,
              "#b5de2b"
             ],
             [
              1,
              "#fde725"
             ]
            ],
            "type": "heatmap"
           }
          ],
          "heatmapgl": [
           {
            "colorbar": {
             "outlinewidth": 1,
             "tickcolor": "rgb(36,36,36)",
             "ticks": "outside"
            },
            "colorscale": [
             [
              0,
              "#440154"
             ],
             [
              0.1111111111111111,
              "#482878"
             ],
             [
              0.2222222222222222,
              "#3e4989"
             ],
             [
              0.3333333333333333,
              "#31688e"
             ],
             [
              0.4444444444444444,
              "#26828e"
             ],
             [
              0.5555555555555556,
              "#1f9e89"
             ],
             [
              0.6666666666666666,
              "#35b779"
             ],
             [
              0.7777777777777778,
              "#6ece58"
             ],
             [
              0.8888888888888888,
              "#b5de2b"
             ],
             [
              1,
              "#fde725"
             ]
            ],
            "type": "heatmapgl"
           }
          ],
          "histogram": [
           {
            "marker": {
             "line": {
              "color": "white",
              "width": 0.6
             }
            },
            "type": "histogram"
           }
          ],
          "histogram2d": [
           {
            "colorbar": {
             "outlinewidth": 1,
             "tickcolor": "rgb(36,36,36)",
             "ticks": "outside"
            },
            "colorscale": [
             [
              0,
              "#440154"
             ],
             [
              0.1111111111111111,
              "#482878"
             ],
             [
              0.2222222222222222,
              "#3e4989"
             ],
             [
              0.3333333333333333,
              "#31688e"
             ],
             [
              0.4444444444444444,
              "#26828e"
             ],
             [
              0.5555555555555556,
              "#1f9e89"
             ],
             [
              0.6666666666666666,
              "#35b779"
             ],
             [
              0.7777777777777778,
              "#6ece58"
             ],
             [
              0.8888888888888888,
              "#b5de2b"
             ],
             [
              1,
              "#fde725"
             ]
            ],
            "type": "histogram2d"
           }
          ],
          "histogram2dcontour": [
           {
            "colorbar": {
             "outlinewidth": 1,
             "tickcolor": "rgb(36,36,36)",
             "ticks": "outside"
            },
            "colorscale": [
             [
              0,
              "#440154"
             ],
             [
              0.1111111111111111,
              "#482878"
             ],
             [
              0.2222222222222222,
              "#3e4989"
             ],
             [
              0.3333333333333333,
              "#31688e"
             ],
             [
              0.4444444444444444,
              "#26828e"
             ],
             [
              0.5555555555555556,
              "#1f9e89"
             ],
             [
              0.6666666666666666,
              "#35b779"
             ],
             [
              0.7777777777777778,
              "#6ece58"
             ],
             [
              0.8888888888888888,
              "#b5de2b"
             ],
             [
              1,
              "#fde725"
             ]
            ],
            "type": "histogram2dcontour"
           }
          ],
          "mesh3d": [
           {
            "colorbar": {
             "outlinewidth": 1,
             "tickcolor": "rgb(36,36,36)",
             "ticks": "outside"
            },
            "type": "mesh3d"
           }
          ],
          "parcoords": [
           {
            "line": {
             "colorbar": {
              "outlinewidth": 1,
              "tickcolor": "rgb(36,36,36)",
              "ticks": "outside"
             }
            },
            "type": "parcoords"
           }
          ],
          "pie": [
           {
            "automargin": true,
            "type": "pie"
           }
          ],
          "scatter": [
           {
            "fillpattern": {
             "fillmode": "overlay",
             "size": 10,
             "solidity": 0.2
            },
            "type": "scatter"
           }
          ],
          "scatter3d": [
           {
            "line": {
             "colorbar": {
              "outlinewidth": 1,
              "tickcolor": "rgb(36,36,36)",
              "ticks": "outside"
             }
            },
            "marker": {
             "colorbar": {
              "outlinewidth": 1,
              "tickcolor": "rgb(36,36,36)",
              "ticks": "outside"
             }
            },
            "type": "scatter3d"
           }
          ],
          "scattercarpet": [
           {
            "marker": {
             "colorbar": {
              "outlinewidth": 1,
              "tickcolor": "rgb(36,36,36)",
              "ticks": "outside"
             }
            },
            "type": "scattercarpet"
           }
          ],
          "scattergeo": [
           {
            "marker": {
             "colorbar": {
              "outlinewidth": 1,
              "tickcolor": "rgb(36,36,36)",
              "ticks": "outside"
             }
            },
            "type": "scattergeo"
           }
          ],
          "scattergl": [
           {
            "marker": {
             "colorbar": {
              "outlinewidth": 1,
              "tickcolor": "rgb(36,36,36)",
              "ticks": "outside"
             }
            },
            "type": "scattergl"
           }
          ],
          "scattermapbox": [
           {
            "marker": {
             "colorbar": {
              "outlinewidth": 1,
              "tickcolor": "rgb(36,36,36)",
              "ticks": "outside"
             }
            },
            "type": "scattermapbox"
           }
          ],
          "scatterpolar": [
           {
            "marker": {
             "colorbar": {
              "outlinewidth": 1,
              "tickcolor": "rgb(36,36,36)",
              "ticks": "outside"
             }
            },
            "type": "scatterpolar"
           }
          ],
          "scatterpolargl": [
           {
            "marker": {
             "colorbar": {
              "outlinewidth": 1,
              "tickcolor": "rgb(36,36,36)",
              "ticks": "outside"
             }
            },
            "type": "scatterpolargl"
           }
          ],
          "scatterternary": [
           {
            "marker": {
             "colorbar": {
              "outlinewidth": 1,
              "tickcolor": "rgb(36,36,36)",
              "ticks": "outside"
             }
            },
            "type": "scatterternary"
           }
          ],
          "surface": [
           {
            "colorbar": {
             "outlinewidth": 1,
             "tickcolor": "rgb(36,36,36)",
             "ticks": "outside"
            },
            "colorscale": [
             [
              0,
              "#440154"
             ],
             [
              0.1111111111111111,
              "#482878"
             ],
             [
              0.2222222222222222,
              "#3e4989"
             ],
             [
              0.3333333333333333,
              "#31688e"
             ],
             [
              0.4444444444444444,
              "#26828e"
             ],
             [
              0.5555555555555556,
              "#1f9e89"
             ],
             [
              0.6666666666666666,
              "#35b779"
             ],
             [
              0.7777777777777778,
              "#6ece58"
             ],
             [
              0.8888888888888888,
              "#b5de2b"
             ],
             [
              1,
              "#fde725"
             ]
            ],
            "type": "surface"
           }
          ],
          "table": [
           {
            "cells": {
             "fill": {
              "color": "rgb(237,237,237)"
             },
             "line": {
              "color": "white"
             }
            },
            "header": {
             "fill": {
              "color": "rgb(217,217,217)"
             },
             "line": {
              "color": "white"
             }
            },
            "type": "table"
           }
          ]
         },
         "layout": {
          "annotationdefaults": {
           "arrowhead": 0,
           "arrowwidth": 1
          },
          "autotypenumbers": "strict",
          "coloraxis": {
           "colorbar": {
            "outlinewidth": 1,
            "tickcolor": "rgb(36,36,36)",
            "ticks": "outside"
           }
          },
          "colorscale": {
           "diverging": [
            [
             0,
             "rgb(103,0,31)"
            ],
            [
             0.1,
             "rgb(178,24,43)"
            ],
            [
             0.2,
             "rgb(214,96,77)"
            ],
            [
             0.3,
             "rgb(244,165,130)"
            ],
            [
             0.4,
             "rgb(253,219,199)"
            ],
            [
             0.5,
             "rgb(247,247,247)"
            ],
            [
             0.6,
             "rgb(209,229,240)"
            ],
            [
             0.7,
             "rgb(146,197,222)"
            ],
            [
             0.8,
             "rgb(67,147,195)"
            ],
            [
             0.9,
             "rgb(33,102,172)"
            ],
            [
             1,
             "rgb(5,48,97)"
            ]
           ],
           "sequential": [
            [
             0,
             "#440154"
            ],
            [
             0.1111111111111111,
             "#482878"
            ],
            [
             0.2222222222222222,
             "#3e4989"
            ],
            [
             0.3333333333333333,
             "#31688e"
            ],
            [
             0.4444444444444444,
             "#26828e"
            ],
            [
             0.5555555555555556,
             "#1f9e89"
            ],
            [
             0.6666666666666666,
             "#35b779"
            ],
            [
             0.7777777777777778,
             "#6ece58"
            ],
            [
             0.8888888888888888,
             "#b5de2b"
            ],
            [
             1,
             "#fde725"
            ]
           ],
           "sequentialminus": [
            [
             0,
             "#440154"
            ],
            [
             0.1111111111111111,
             "#482878"
            ],
            [
             0.2222222222222222,
             "#3e4989"
            ],
            [
             0.3333333333333333,
             "#31688e"
            ],
            [
             0.4444444444444444,
             "#26828e"
            ],
            [
             0.5555555555555556,
             "#1f9e89"
            ],
            [
             0.6666666666666666,
             "#35b779"
            ],
            [
             0.7777777777777778,
             "#6ece58"
            ],
            [
             0.8888888888888888,
             "#b5de2b"
            ],
            [
             1,
             "#fde725"
            ]
           ]
          },
          "colorway": [
           "#1F77B4",
           "#FF7F0E",
           "#2CA02C",
           "#D62728",
           "#9467BD",
           "#8C564B",
           "#E377C2",
           "#7F7F7F",
           "#BCBD22",
           "#17BECF"
          ],
          "font": {
           "color": "rgb(36,36,36)"
          },
          "geo": {
           "bgcolor": "white",
           "lakecolor": "white",
           "landcolor": "white",
           "showlakes": true,
           "showland": true,
           "subunitcolor": "white"
          },
          "hoverlabel": {
           "align": "left"
          },
          "hovermode": "closest",
          "mapbox": {
           "style": "light"
          },
          "paper_bgcolor": "white",
          "plot_bgcolor": "white",
          "polar": {
           "angularaxis": {
            "gridcolor": "rgb(232,232,232)",
            "linecolor": "rgb(36,36,36)",
            "showgrid": false,
            "showline": true,
            "ticks": "outside"
           },
           "bgcolor": "white",
           "radialaxis": {
            "gridcolor": "rgb(232,232,232)",
            "linecolor": "rgb(36,36,36)",
            "showgrid": false,
            "showline": true,
            "ticks": "outside"
           }
          },
          "scene": {
           "xaxis": {
            "backgroundcolor": "white",
            "gridcolor": "rgb(232,232,232)",
            "gridwidth": 2,
            "linecolor": "rgb(36,36,36)",
            "showbackground": true,
            "showgrid": false,
            "showline": true,
            "ticks": "outside",
            "zeroline": false,
            "zerolinecolor": "rgb(36,36,36)"
           },
           "yaxis": {
            "backgroundcolor": "white",
            "gridcolor": "rgb(232,232,232)",
            "gridwidth": 2,
            "linecolor": "rgb(36,36,36)",
            "showbackground": true,
            "showgrid": false,
            "showline": true,
            "ticks": "outside",
            "zeroline": false,
            "zerolinecolor": "rgb(36,36,36)"
           },
           "zaxis": {
            "backgroundcolor": "white",
            "gridcolor": "rgb(232,232,232)",
            "gridwidth": 2,
            "linecolor": "rgb(36,36,36)",
            "showbackground": true,
            "showgrid": false,
            "showline": true,
            "ticks": "outside",
            "zeroline": false,
            "zerolinecolor": "rgb(36,36,36)"
           }
          },
          "shapedefaults": {
           "fillcolor": "black",
           "line": {
            "width": 0
           },
           "opacity": 0.3
          },
          "ternary": {
           "aaxis": {
            "gridcolor": "rgb(232,232,232)",
            "linecolor": "rgb(36,36,36)",
            "showgrid": false,
            "showline": true,
            "ticks": "outside"
           },
           "baxis": {
            "gridcolor": "rgb(232,232,232)",
            "linecolor": "rgb(36,36,36)",
            "showgrid": false,
            "showline": true,
            "ticks": "outside"
           },
           "bgcolor": "white",
           "caxis": {
            "gridcolor": "rgb(232,232,232)",
            "linecolor": "rgb(36,36,36)",
            "showgrid": false,
            "showline": true,
            "ticks": "outside"
           }
          },
          "title": {
           "x": 0.05
          },
          "xaxis": {
           "automargin": true,
           "gridcolor": "rgb(232,232,232)",
           "linecolor": "rgb(36,36,36)",
           "showgrid": false,
           "showline": true,
           "ticks": "outside",
           "title": {
            "standoff": 15
           },
           "zeroline": false,
           "zerolinecolor": "rgb(36,36,36)"
          },
          "yaxis": {
           "automargin": true,
           "gridcolor": "rgb(232,232,232)",
           "linecolor": "rgb(36,36,36)",
           "showgrid": false,
           "showline": true,
           "ticks": "outside",
           "title": {
            "standoff": 15
           },
           "zeroline": false,
           "zerolinecolor": "rgb(36,36,36)"
          }
         }
        },
        "width": 1350,
        "xaxis": {
         "tickformat": "i"
        }
       }
      }
     },
     "metadata": {},
     "output_type": "display_data"
    }
   ],
   "source": [
    "epsilons =[ -0.2, 0.1, 0.2]\n",
    "Ue= []\n",
    "\n",
    "for epsilon in epsilons:\n",
    "\n",
    "        distances= np.arange(0.4, 2, 0.1)\n",
    "        minimal_distance = 1.98 #R_g a cui e=o\n",
    "\n",
    "        for distance in distances :\n",
    "\n",
    "                def calculate_energy(epsilon, minimal_distance, distance):\n",
    "                    energy = epsilon * (((minimal_distance / distance) ** 12) - (2 * ((minimal_distance / distance) ** 6)))\n",
    "                    return energy\n",
    "\n",
    "\n",
    "\n",
    "                potential_energy_scan = [calculate_energy(epsilon, minimal_distance, distance) for distance in distances]\n",
    "                Ue.append(potential_energy_scan)\n",
    "\n",
    "\n",
    "\n",
    "        fig = go.Figure()\n",
    "        fig.add_trace(\n",
    "            go.Scatter(\n",
    "                x=list(distances), y=potential_energy_scan,\n",
    "                mode='lines+markers',\n",
    "                name='transaction-based model',\n",
    "                marker=dict(size=10)\n",
    "            )\n",
    "        )\n",
    "\n",
    "        fig.update_layout(legend=dict(itemsizing='constant'))\n",
    "        fig.update_layout(legend=dict(\n",
    "                orientation=\"h\",\n",
    "                yanchor=\"bottom\",\n",
    "                y=1.02,\n",
    "                xanchor=\"right\",\n",
    "                x=1.05,\n",
    "                font = dict(family = \"Arial\", size = 20),\n",
    "                bordercolor=\"LightSteelBlue\",\n",
    "                borderwidth=2,\n",
    "            ),\n",
    "        )\n",
    "        fig.update_traces(line=dict(width=5))\n",
    "\n",
    "        fig.update_layout(\n",
    "            template='simple_white',\n",
    "            xaxis_tickformat = 'i',\n",
    "            bargap=0.2, # gap between bars of adjacent location coordinates,\n",
    "            height=600,\n",
    "            width=1350\n",
    "        )\n",
    "\n",
    "\n",
    "fig.show()"
   ]
  }
 ],
 "metadata": {
  "kernelspec": {
   "display_name": "Python 3",
   "language": "python",
   "name": "python3"
  },
  "language_info": {
   "codemirror_mode": {
    "name": "ipython",
    "version": 3
   },
   "file_extension": ".py",
   "mimetype": "text/x-python",
   "name": "python",
   "nbconvert_exporter": "python",
   "pygments_lexer": "ipython3",
   "version": "3.11.6"
  }
 },
 "nbformat": 4,
 "nbformat_minor": 4
}
