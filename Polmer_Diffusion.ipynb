{
 "cells": [
  {
   "cell_type": "markdown",
   "metadata": {},
   "source": [
    "# Polymers\n",
    "\n",
    "  __Goal__ : Simulation and Statistical Study of Polymers and their Diffusion in different conditions (dimensionality, kind of chains and interactions),"
   ]
  },
  {
   "cell_type": "markdown",
   "metadata": {},
   "source": [
    "1) Load Libraries and the Experiment file"
   ]
  },
  {
   "cell_type": "code",
   "execution_count": 1,
   "metadata": {},
   "outputs": [],
   "source": [
    "import numpy as np\n",
    "import matplotlib.pyplot as plt\n",
    "import pylab\n",
    "from mpl_toolkits.mplot3d import Axes3D\n",
    "import random\n",
    "\n",
    "%matplotlib qt \n",
    "\n",
    "plt.close('all') #close all figures if open\n"
   ]
  },
  {
   "cell_type": "markdown",
   "metadata": {},
   "source": [
    "## Statics of the Chain"
   ]
  },
  {
   "cell_type": "markdown",
   "metadata": {},
   "source": [
    "2) Ideal Chain"
   ]
  },
  {
   "cell_type": "code",
   "execution_count": 37,
   "metadata": {},
   "outputs": [],
   "source": [
    "d=3\n",
    "L=1000;\n",
    "id_chain=np.zeros((L,d))\n",
    "\n",
    "for i in range(1,L):\n",
    "    \n",
    "    dice_dim=np.random.randint(0,d) # random variable of the dimensionality, dice_dim={0, 1,... d-1}\n",
    "    dice_step=-1+2*np.random.randint(0,2) # random variable of the step, dice_step={-1, 1}\n",
    "    \n",
    "    id_chain[i,:]=id_chain[i-1,:] #set the position of the i monomer as the i-1\n",
    "    id_chain[i,dice_dim]=id_chain[i,dice_dim]+dice_step # add the step along the chosen dimension\n",
    "    \n",
    "\n",
    "fig = plt.figure(d)        \n",
    "\n",
    "if d==2:\n",
    "    plt.plot(id_chain[:,0],id_chain[:,1], '--o') \n",
    "    plt.title(\"2D ID polymer diffusion\")\n",
    "    \n",
    "    \n",
    "else:\n",
    "    ax = fig.add_subplot(projection='3d')\n",
    "    ax.plot(id_chain[:,0],id_chain[:,1],id_chain[:,2], '--o')\n",
    "    plt.title(\"3D ID polymer diffusion\")\n",
    "    plt.show()\n",
    "    plt.tight_layout()\n"
   ]
  },
  {
   "cell_type": "code",
   "execution_count": 47,
   "metadata": {},
   "outputs": [
    {
     "data": {
      "text/plain": [
       "0.021645021645021644"
      ]
     },
     "execution_count": 47,
     "metadata": {},
     "output_type": "execute_result"
    }
   ],
   "source": [
    "L= 1000\n",
    "A= 33*35*40\n",
    "\n",
    "d= L/A\n",
    "d"
   ]
  },
  {
   "cell_type": "markdown",
   "metadata": {},
   "source": [
    "2) Self-Avoiding Chain"
   ]
  },
  {
   "cell_type": "code",
   "execution_count": 46,
   "metadata": {},
   "outputs": [],
   "source": [
    "d=3\n",
    "L=1000;\n",
    "\n",
    "acc_chain=0\n",
    "\n",
    "while acc_chain!=1:\n",
    "    \n",
    "    sa_chain=np.zeros((L,d))\n",
    "    \n",
    "    for i in range(1,L): #setting the positions for the single monomers\n",
    "    \n",
    "        b=0\n",
    "        acc=0;\n",
    "        ref_i=0;\n",
    "\n",
    "        while acc!=1: #accept the monomer choice such that acc=1\n",
    "    \n",
    "        \n",
    "            dice_dim=np.random.randint(0,d) # random variable of the dimensionality={0, 1,... d-1}\n",
    "            dice_step=-1+2*np.random.randint(0,2) # random variable of the step={-1, 1}\n",
    "            \n",
    "            sa_chain[i,:]=sa_chain[i-1,:]\n",
    "            sa_chain[i,dice_dim]=sa_chain[i,dice_dim]+dice_step\n",
    "\n",
    "            acc=np.sum(np.prod((sa_chain[:,:]==sa_chain[i,:]),1)) # acc>1 if the position sa_chain[i,:] is already occupied\n",
    "        \n",
    "            ref_i=ref_i+1;\n",
    "        \n",
    "            if ref_i>50: #after 50 non accepted choices, break the this while loop\n",
    "                b=1;\n",
    "                break\n",
    "            \n",
    "        if b==1: #interrupt for cycle if no choice for the monomer was accepted\n",
    "            break\n",
    "    \n",
    "    #if the chain \"survived\" to the break in the for cycle, it can be accepted\n",
    "    acc_chain=1-b;\n",
    "\n",
    "        \n",
    "fig = plt.figure(d)        \n",
    "\n",
    "if d==2:\n",
    "    plt.plot(sa_chain[:,0],sa_chain[:,1],'-o')\n",
    "    plt.title(\"2D SA polymer diffusion\")\n",
    "\n",
    "    \n",
    "else:\n",
    "    ax = fig.add_subplot(projection='3d')\n",
    "    ax.plot(sa_chain[:,0],sa_chain[:,1],sa_chain[:,2],'-o')#, label='parametric curve'\n",
    "    plt.title(\"3D SA polymer diffusion\")\n",
    "    plt.show()\n",
    "    plt.tight_layout()"
   ]
  },
  {
   "cell_type": "markdown",
   "metadata": {},
   "source": [
    "3) Define the Functions to simulate the Ideal Chain and the Self-Avoiding Chain"
   ]
  },
  {
   "cell_type": "code",
   "execution_count": 6,
   "metadata": {},
   "outputs": [],
   "source": [
    "def id_chain_set(L, d):\n",
    "\n",
    "    id_chain=np.zeros((L,d))\n",
    "    for i in range(1,L):\n",
    "                dice_dim=np.random.randint(0,d) \n",
    "                dice_step=-1+2*np.random.randint(0,2) \n",
    "                id_chain[i,:]=id_chain[i-1,:] \n",
    "                id_chain[i,dice_dim]=id_chain[i,dice_dim]+dice_step \n",
    "        \n",
    "    return(id_chain)\n",
    "\n",
    "\n",
    "def sa_chain_set(L, d):\n",
    "    acc_chain=0\n",
    "    while acc_chain!=1:\n",
    "        sa_chain=np.zeros((L,d))\n",
    "    \n",
    "        for i in range(1,L): \n",
    "            b=0\n",
    "            acc=0;\n",
    "            ref_i=0;\n",
    "\n",
    "            while acc!=1: \n",
    "                dice_dim=np.random.randint(0,d) \n",
    "                dice_step=-1+2*np.random.randint(0,2)\n",
    "\n",
    "                sa_chain[i,:]=sa_chain[i-1,:]\n",
    "                sa_chain[i,dice_dim]=sa_chain[i,dice_dim]+dice_step\n",
    "\n",
    "                acc=np.sum(np.prod((sa_chain[:,:]==sa_chain[i,:]),1))\n",
    "                ref_i=ref_i+1;\n",
    "        \n",
    "                if ref_i>50:\n",
    "                    b=1;\n",
    "                    break\n",
    "            \n",
    "            if b==1:\n",
    "                break\n",
    "    \n",
    "        acc_chain=1-b;\n",
    "\n",
    "        \n",
    "    return(sa_chain)"
   ]
  },
  {
   "cell_type": "code",
   "execution_count": 103,
   "metadata": {},
   "outputs": [
    {
     "data": {
      "text/plain": [
       "array([[ 0.,  0.],\n",
       "       [ 0.,  1.],\n",
       "       [-1.,  1.],\n",
       "       [-2.,  1.],\n",
       "       [-1.,  1.],\n",
       "       [ 0.,  1.],\n",
       "       [ 1.,  1.],\n",
       "       [ 2.,  1.],\n",
       "       [ 2.,  2.],\n",
       "       [ 2.,  3.],\n",
       "       [ 2.,  2.],\n",
       "       [ 2.,  3.],\n",
       "       [ 3.,  3.],\n",
       "       [ 3.,  2.],\n",
       "       [ 2.,  2.],\n",
       "       [ 3.,  2.],\n",
       "       [ 3.,  1.],\n",
       "       [ 4.,  1.],\n",
       "       [ 5.,  1.],\n",
       "       [ 5.,  0.],\n",
       "       [ 5., -1.],\n",
       "       [ 5.,  0.],\n",
       "       [ 5.,  1.],\n",
       "       [ 5.,  2.],\n",
       "       [ 4.,  2.],\n",
       "       [ 4.,  1.],\n",
       "       [ 4.,  2.],\n",
       "       [ 3.,  2.],\n",
       "       [ 3.,  3.],\n",
       "       [ 3.,  4.],\n",
       "       [ 3.,  3.],\n",
       "       [ 3.,  4.],\n",
       "       [ 2.,  4.],\n",
       "       [ 3.,  4.],\n",
       "       [ 4.,  4.],\n",
       "       [ 4.,  5.],\n",
       "       [ 4.,  6.],\n",
       "       [ 5.,  6.],\n",
       "       [ 6.,  6.],\n",
       "       [ 7.,  6.],\n",
       "       [ 7.,  5.],\n",
       "       [ 7.,  6.],\n",
       "       [ 7.,  5.],\n",
       "       [ 8.,  5.],\n",
       "       [ 7.,  5.],\n",
       "       [ 7.,  6.],\n",
       "       [ 7.,  7.],\n",
       "       [ 6.,  7.],\n",
       "       [ 5.,  7.],\n",
       "       [ 4.,  7.],\n",
       "       [ 4.,  8.],\n",
       "       [ 5.,  8.],\n",
       "       [ 5.,  9.],\n",
       "       [ 5.,  8.],\n",
       "       [ 6.,  8.],\n",
       "       [ 6.,  7.],\n",
       "       [ 7.,  7.],\n",
       "       [ 7.,  8.],\n",
       "       [ 7.,  7.],\n",
       "       [ 7.,  6.],\n",
       "       [ 7.,  5.],\n",
       "       [ 6.,  5.],\n",
       "       [ 5.,  5.],\n",
       "       [ 5.,  6.],\n",
       "       [ 5.,  5.],\n",
       "       [ 6.,  5.],\n",
       "       [ 6.,  6.],\n",
       "       [ 5.,  6.],\n",
       "       [ 5.,  7.],\n",
       "       [ 5.,  8.],\n",
       "       [ 5.,  7.],\n",
       "       [ 6.,  7.],\n",
       "       [ 5.,  7.],\n",
       "       [ 4.,  7.],\n",
       "       [ 5.,  7.],\n",
       "       [ 4.,  7.],\n",
       "       [ 3.,  7.],\n",
       "       [ 3.,  8.],\n",
       "       [ 2.,  8.],\n",
       "       [ 2.,  7.],\n",
       "       [ 2.,  6.],\n",
       "       [ 2.,  7.],\n",
       "       [ 3.,  7.],\n",
       "       [ 3.,  8.],\n",
       "       [ 4.,  8.],\n",
       "       [ 3.,  8.],\n",
       "       [ 2.,  8.],\n",
       "       [ 2.,  9.],\n",
       "       [ 3.,  9.],\n",
       "       [ 4.,  9.],\n",
       "       [ 4.,  8.],\n",
       "       [ 5.,  8.],\n",
       "       [ 4.,  8.],\n",
       "       [ 4.,  9.],\n",
       "       [ 3.,  9.],\n",
       "       [ 3., 10.],\n",
       "       [ 3., 11.],\n",
       "       [ 2., 11.],\n",
       "       [ 3., 11.],\n",
       "       [ 2., 11.]])"
      ]
     },
     "execution_count": 103,
     "metadata": {},
     "output_type": "execute_result"
    }
   ],
   "source": [
    "#id_chain_set (100, 2)\n",
    "id_chain_set(100, 2)"
   ]
  },
  {
   "cell_type": "markdown",
   "metadata": {},
   "source": [
    "4) Giration Radius Definition"
   ]
  },
  {
   "cell_type": "code",
   "execution_count": 9,
   "metadata": {},
   "outputs": [],
   "source": [
    "def g_radius(chain):  #or  chain, dim\n",
    "    N=len(chain)-1\n",
    "    centre = [0,0]\n",
    "    \n",
    "    for i in range (N+1):\n",
    "        r_cm = (np.mean([(centre[0] + chain[i, 0])/2 , (centre[1] + chain[i,1])/2]))\n",
    "\n",
    "    \n",
    "    data = [] #se metto lista vuota nn funziona\n",
    "    for i in range (N+1):\n",
    "        r_g = np.sqrt( np.sum((chain[i, :] - r_cm)**2) / (N+1) )\n",
    "        #print (r_g)\n",
    "        data.append(r_g)\n",
    "    \n",
    "   # dstanza medi della soma dal centro00 e output array. poi confornto quelo che conancora output array e radice\n",
    "    out = ( r_g, data)\n",
    "    return out #or  return r_g, r_cm #mass centre\n",
    "\n",
    "def g_radius3D(chain):  #or  chain, dim\n",
    "    N=len(chain)-1\n",
    "    centre = [0,0,0]\n",
    "    \n",
    "    for i in range (N+1):\n",
    "        r_cm = (np.mean([(centre[0] + chain[i, 0])/2 , (centre[1] + chain[i,1])/2, (centre[1] + chain[i,2])/2 ]))\n",
    "\n",
    "    \n",
    "    data = [] \n",
    "    for i in range (N+1):\n",
    "        r_g = np.sqrt( np.sum((chain[i, :] - r_cm)**2) / (N+1) )\n",
    "        #print (r_g)\n",
    "        data.append(r_g)\n",
    "    \n",
    "   # dstanza medi della soma dal centro00 e output array. poi confornto quelo che conancora output array e radice\n",
    "    out = ( r_g, data) #[0]last value, [1] tutti i valori in func of L\n",
    "    return out #or  return r_g, r_cm #mass centre"
   ]
  },
  {
   "cell_type": "code",
   "execution_count": 194,
   "metadata": {},
   "outputs": [
    {
     "data": {
      "text/plain": [
       "Text(0.5, 1.0, 'Gyration Radius as function of L')"
      ]
     },
     "execution_count": 194,
     "metadata": {},
     "output_type": "execute_result"
    }
   ],
   "source": [
    "plt.plot(g_radius(sa_chain_set(500,2))[1], label= \"SA 2D\")\n",
    "plt.xlabel (\"chain length (L)\")\n",
    "plt.ylabel (\"g_radius\")\n",
    "plt.grid(True)\n",
    "plt.legend()\n",
    "plt.title (\"Gyration Radius as function of L\")"
   ]
  },
  {
   "cell_type": "code",
   "execution_count": 13,
   "metadata": {},
   "outputs": [],
   "source": [
    "#g_radius( id_chain_set (150, 2))\n",
    "ex= g_radius (id_chain_set(200,3))\n",
    "recorded = []\n",
    "def plot (x):\n",
    "    plt.hist(x[1], ec=\"black\", bins= 20, label= f\"g_r: {np.mean(x[1]):.3f} \\u00B1 {np.std(x[1]):.3f}\", alpha=0.6)\n",
    "    plt.grid(True)\n",
    "    plt.xlabel(\"r_g\")\n",
    "    plt.ylabel(\"freq\")\n",
    "    #plt.ylim (0, 30)\n",
    "    plt.title(\"Gyration Radius Distribution / SA 3D\")\n",
    "    plt.legend(fontsize =\"small\")\n",
    "    plt.plot\n",
    "\n",
    "plot(ex)\n"
   ]
  },
  {
   "cell_type": "code",
   "execution_count": 148,
   "metadata": {},
   "outputs": [],
   "source": [
    "  # Numero di esecuzioni\n",
    "\n",
    "def double_mean(chain):\n",
    "    output_list = []\n",
    "    num_runs = 100\n",
    "    for i in range(num_runs):\n",
    "        result = g_radius3D(chain)[0]\n",
    "        output_list.append(result)\n",
    "\n",
    "    return np.mean(output_list)\n"
   ]
  },
  {
   "cell_type": "code",
   "execution_count": 149,
   "metadata": {},
   "outputs": [
    {
     "name": "stdout",
     "output_type": "stream",
     "text": [
      "[0.6123724356957947, 0.6442049363362565, 1.0618380290797653, 1.5406978938130598, 1.0045728777279759, 0.44440972086577946]\n"
     ]
    }
   ],
   "source": [
    "\n",
    "Lgroup= [2, 50,100,200, 300, 500]\n",
    "rg = []\n",
    "for L in Lgroup:\n",
    "   rg.append(double_mean(id_chain_set(L,3)))\n",
    "\n",
    "print (rg)\n",
    "plt.plot( Lgroup, rg, linestyle=\":\", label= \"SA 3D\")\n",
    "plt.xlabel(\"n monomers\")\n",
    "plt.ylabel(\"g_radius\")\n",
    "plt.title(\"Giration Radius (L) \")\n",
    "plt.legend()\n",
    "plt.grid(True)"
   ]
  },
  {
   "cell_type": "markdown",
   "metadata": {},
   "source": [
    "5) Giration Radius Statistics (histograms and mean value), in 2D and 3D, for Ideal Chains and Self-Avoiding Chains, at a chosen L"
   ]
  },
  {
   "cell_type": "code",
   "execution_count": 126,
   "metadata": {},
   "outputs": [
    {
     "name": "stdout",
     "output_type": "stream",
     "text": [
      "Giration Radius: 1.2196310917650468\n"
     ]
    },
    {
     "data": {
      "text/plain": [
       "0.705751603421693"
      ]
     },
     "execution_count": 126,
     "metadata": {},
     "output_type": "execute_result"
    }
   ],
   "source": [
    "#3D RG FREQUENCY HISTOGRAM\n",
    "func = id_chain_set(100,3)\n",
    "print (\"Giration Radius:\", g_radius3D(func)[0])\n",
    "plot(g_radius3D(func))\n",
    "double_mean(func)\n",
    "#n= n di mnomeri, =L\n",
    "#so 4 cases in tot 2d/3d over id/sa"
   ]
  },
  {
   "cell_type": "markdown",
   "metadata": {},
   "source": [
    "## Assignments:"
   ]
  },
  {
   "cell_type": "markdown",
   "metadata": {},
   "source": [
    "1) Study the Statistics of R_g and the Concentration of the chains, in the 4 cases, as a function of L    (use a definition of concentration appropriate to the dimensionality)."
   ]
  },
  {
   "cell_type": "code",
   "execution_count": null,
   "metadata": {},
   "outputs": [
    {
     "data": {
      "text/plain": [
       "'\\ndef compute_volume(chain):\\n    min_coords = np.min(chain, axis=0)\\n    max_coords = np.max(chain, axis=0)\\n    lengths = max_coords - min_coords\\n    volume = np.prod(lengths)\\n    return volume\\n\\n#VOLUME \\nfor L in  (100, 200, 50):\\n    id_2D= id_chain_set(L, 2)\\n    id_3D = id_chain_set(L, 3)\\n    sa_2D = sa_chain_set(L, 2)\\n    sa_3D = sa_chain_set(L, 3)\\n\\n    volume_1 = compute_volume(id_2D)\\n    volume_2 = compute_volume(id_3D)\\n    volume_3 = compute_volume(sa_2D)\\n    volume_4 = compute_volume(sa_3D)\\n\\n    print(f\"Volume of the 2D bounding box ID chain, L= {L}, V={volume_1}\")\\n    print(f\"Volume of the 3D bounding box ID chain,  L= {L}, V={volume_2}\")\\n    print(f\"Volume of the 2D bounding box SA chain,  L= {L}, V={volume_3}\")\\n    print(f\"Volume of the 3D bounding box SA chain,  L= {L}, V={volume_4}\")\\n'"
      ]
     },
     "execution_count": 76,
     "metadata": {},
     "output_type": "execute_result"
    }
   ],
   "source": [
    "#giration radius is a good approximation of the compactness of the chain\n",
    "#concentration how many chian and how long are they according to the volume\n",
    "''''\n",
    "def compute_volume(chain):\n",
    "    min_coords = np.min(chain, axis=0)\n",
    "    max_coords = np.max(chain, axis=0)\n",
    "    lengths = max_coords - min_coords\n",
    "    volume = np.prod(lengths)\n",
    "    return volume\n",
    "\n",
    "#VOLUME \n",
    "for L in  (100, 200, 50):\n",
    "    id_2D= id_chain_set(L, 2)\n",
    "    id_3D = id_chain_set(L, 3)\n",
    "    sa_2D = sa_chain_set(L, 2)\n",
    "    sa_3D = sa_chain_set(L, 3)\n",
    "\n",
    "    volume_1 = compute_volume(id_2D)\n",
    "    volume_2 = compute_volume(id_3D)\n",
    "    volume_3 = compute_volume(sa_2D)\n",
    "    volume_4 = compute_volume(sa_3D)\n",
    "\n",
    "    print(f\"Volume of the 2D bounding box ID chain, L= {L}, V={volume_1}\")\n",
    "    print(f\"Volume of the 3D bounding box ID chain,  L= {L}, V={volume_2}\")\n",
    "    print(f\"Volume of the 2D bounding box SA chain,  L= {L}, V={volume_3}\")\n",
    "    print(f\"Volume of the 3D bounding box SA chain,  L= {L}, V={volume_4}\")\n",
    "'''"
   ]
  },
  {
   "cell_type": "code",
   "execution_count": 315,
   "metadata": {},
   "outputs": [],
   "source": [
    "#VOLUME CODE\n",
    "\n",
    "def volume3D (chain):\n",
    "    list=[]\n",
    "    y = g_radius3D(chain)[1]\n",
    "    x= np.linspace(1, L, 1)\n",
    "\n",
    "    for i in y:\n",
    "        V= 4/3 * np.pi * (i)**3 \n",
    "        list.append(V)\n",
    "    C= x/list\n",
    "        \n",
    "    return list,C\n",
    "\n",
    "\n",
    "def volume2D (chain):\n",
    "    list= []\n",
    "    y = g_radius(chain)[1]\n",
    "    x= np.linspace(1, L, 1)\n",
    "    \n",
    "    for i in y:\n",
    "        V= np.pi * (i)**2\n",
    "        list.append(V)\n",
    "\n",
    "    C= x/ list\n",
    "    \n",
    "    return list, C #lista dei V per le varie L\n",
    "\n",
    "#volume2D(id_chain_set(100,2))\n"
   ]
  },
  {
   "cell_type": "code",
   "execution_count": 369,
   "metadata": {},
   "outputs": [
    {
     "data": {
      "text/plain": [
       "Text(0.5, 1.0, 'Concentration as function of L')"
      ]
     },
     "execution_count": 369,
     "metadata": {},
     "output_type": "execute_result"
    }
   ],
   "source": [
    "#CONCENTRATION CODE\n",
    "'''\n",
    "def concentration (L,chain):\n",
    "    Conc= []\n",
    "    for i in volume2D(chain):\n",
    "        C = L/ i #or volume3D function\n",
    "        Conc.append(C)\n",
    "    return Conc\n",
    "'''\n",
    "\n",
    "#C(L) PLOT\n",
    "\n",
    "plt.plot(volume2D(sa_chain_set(500,3))[1], label= \"SA 2D\")\n",
    "plt.xlabel(\"chain length\")\n",
    "plt.ylabel(\"C[units/V]\")\n",
    "plt.legend()\n",
    "plt.ylim(0,20)\n",
    "plt.grid(True)\n",
    "plt.title(\"Concentration as function of L\")\n",
    "\n"
   ]
  },
  {
   "cell_type": "code",
   "execution_count": 452,
   "metadata": {},
   "outputs": [
    {
     "name": "stderr",
     "output_type": "stream",
     "text": [
      "No artists with labels found to put in legend.  Note that artists whose label start with an underscore are ignored when legend() is called with no argument.\n"
     ]
    }
   ],
   "source": [
    "\n",
    "\n",
    "def c_mean(L,d):\n",
    "    output_list = []\n",
    "    num_runs = 10\n",
    "    for i in range(num_runs):\n",
    "        chain = sa_chain_set(L,d)   #per avere iter accumulati parti dalla prima fun\n",
    "        concentratio = volume2D(chain) [1]\n",
    "        result = concentratio [100]\n",
    "        output_list.append(result)\n",
    "    return output_list, np.mean(output_list)\n",
    "    #return output_list\n",
    "'''\n",
    "toplot = []\n",
    "L_range= [50,100,200,500, 800, 1000]\n",
    "for L in L_range:\n",
    "    toplot.append(c_mean(L, 3)[1])\n",
    "\n",
    "plt.plot(L_range,toplot, linestyle=\":\", label=\"SA 3D chain\")\n",
    "plt.xlabel(\"L\")\n",
    "plt.ylabel(\"C [mon/V]\")\n",
    "plt.legend()\n",
    "plt.title(\"Concentration distribution in function of L\")\n",
    "\n",
    "'''\n",
    "#ID 2D concentration distributio +\\- errors for fixed L\n",
    "a= c_mean(300,2)\n",
    "\n",
    "plt.violinplot(a[0])\n",
    "\n",
    "plt.ylabel(\"C values\")\n",
    "plt.grid(True)\n",
    "plt.legend()\n",
    "plt.title( f\"<C> : {np.mean(a[0]):.3f} \\u00B1 {np.std(a[0]):.3f}\")\n",
    "plt.show()\n"
   ]
  }
 ],
 "metadata": {
  "kernelspec": {
   "display_name": "Python 3",
   "language": "python",
   "name": "python3"
  },
  "language_info": {
   "codemirror_mode": {
    "name": "ipython",
    "version": 3
   },
   "file_extension": ".py",
   "mimetype": "text/x-python",
   "name": "python",
   "nbconvert_exporter": "python",
   "pygments_lexer": "ipython3",
   "version": "3.11.6"
  }
 },
 "nbformat": 4,
 "nbformat_minor": 4
}
